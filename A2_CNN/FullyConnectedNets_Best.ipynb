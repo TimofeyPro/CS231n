{
 "cells": [
  {
   "cell_type": "markdown",
   "metadata": {
    "tags": [
     "pdf-title"
    ]
   },
   "source": [
    "# Подбор параметров для Fully-Connected Neural Nets"
   ]
  },
  {
   "cell_type": "code",
   "execution_count": 1,
   "metadata": {
    "tags": [
     "pdf-ignore"
    ]
   },
   "outputs": [],
   "source": [
    "# As usual, a bit of setup\n",
    "from __future__ import print_function\n",
    "import time\n",
    "import numpy as np\n",
    "import matplotlib.pyplot as plt\n",
    "from classifiers.fc_net import *\n",
    "from data_utils import get_CIFAR10_data\n",
    "from gradient_check import eval_numerical_gradient, eval_numerical_gradient_array\n",
    "from solver import Solver\n",
    "\n",
    "%matplotlib inline\n",
    "\n",
    "\n",
    "# for auto-reloading external modules\n",
    "# see http://stackoverflow.com/questions/1907993/autoreload-of-modules-in-ipython\n",
    "%load_ext autoreload\n",
    "%autoreload 2\n",
    "\n",
    "def rel_error(x, y):\n",
    "  \"\"\" returns relative error \"\"\"\n",
    "  return np.max(np.abs(x - y) / (np.maximum(1e-8, np.abs(x) + np.abs(y))))"
   ]
  },
  {
   "cell_type": "code",
   "execution_count": 2,
   "metadata": {},
   "outputs": [],
   "source": [
    "plt.rcParams['figure.figsize'] = (12.0, 8.0) # set default size of plots\n",
    "plt.rcParams['image.interpolation'] = 'nearest'\n",
    "plt.rcParams['image.cmap'] = 'gray'"
   ]
  },
  {
   "cell_type": "code",
   "execution_count": 3,
   "metadata": {
    "tags": [
     "pdf-ignore"
    ]
   },
   "outputs": [
    {
     "name": "stdout",
     "output_type": "stream",
     "text": [
      "('X_train: ', (49000, 3, 32, 32))\n",
      "('y_train: ', (49000,))\n",
      "('X_val: ', (1000, 3, 32, 32))\n",
      "('y_val: ', (1000,))\n",
      "('X_test: ', (1000, 3, 32, 32))\n",
      "('y_test: ', (1000,))\n"
     ]
    }
   ],
   "source": [
    "# Load the (preprocessed) CIFAR10 data.\n",
    "\n",
    "data = get_CIFAR10_data()\n",
    "for k, v in list(data.items()):\n",
    "  print(('%s: ' % k, v.shape))"
   ]
  },
  {
   "cell_type": "code",
   "execution_count": 5,
   "metadata": {},
   "outputs": [
    {
     "name": "stdout",
     "output_type": "stream",
     "text": [
      "reg: 9.694836, lr: 0.008318, std: 0.042292\n",
      "train_acc: 0.774224, val_acc: 0.598000\n",
      "\n",
      "reg: 3.751773, lr: 0.001126, std: 0.008189\n",
      "train_acc: 0.768612, val_acc: 0.590000\n",
      "\n",
      "reg: 0.162819, lr: 0.004235, std: 0.001462\n",
      "train_acc: 0.729102, val_acc: 0.566000\n",
      "\n",
      "reg: 0.393033, lr: 0.000604, std: 0.008792\n",
      "train_acc: 0.744755, val_acc: 0.583000\n",
      "\n",
      "reg: 0.304751, lr: 0.000522, std: 0.036292\n",
      "train_acc: 0.702347, val_acc: 0.588000\n",
      "\n",
      "reg: 2.112174, lr: 0.006263, std: 0.061103\n",
      "train_acc: 0.664571, val_acc: 0.577000\n",
      "\n",
      "reg: 0.548612, lr: 0.000180, std: 0.005189\n",
      "train_acc: 0.671204, val_acc: 0.578000\n",
      "\n",
      "reg: 0.129537, lr: 0.000349, std: 0.024563\n",
      "train_acc: 0.716837, val_acc: 0.591000\n",
      "\n",
      "reg: 0.675506, lr: 0.000233, std: 0.042595\n",
      "train_acc: 0.686041, val_acc: 0.567000\n",
      "\n",
      "reg: 3.884095, lr: 0.000120, std: 0.007707\n",
      "train_acc: 0.698429, val_acc: 0.594000\n",
      "\n",
      "reg: 3.725495, lr: 0.004095, std: 0.019249\n",
      "train_acc: 0.791980, val_acc: 0.590000\n",
      "\n",
      "reg: 0.692113, lr: 0.000128, std: 0.096822\n",
      "train_acc: 0.555980, val_acc: 0.515000\n",
      "\n",
      "reg: 0.218203, lr: 0.005311, std: 0.018220\n",
      "train_acc: 0.812490, val_acc: 0.592000\n",
      "\n",
      "reg: 7.761120, lr: 0.000153, std: 0.001929\n",
      "train_acc: 0.740082, val_acc: 0.591000\n",
      "\n",
      "reg: 6.962474, lr: 0.001417, std: 0.004613\n",
      "train_acc: 0.784102, val_acc: 0.599000\n",
      "\n"
     ]
    }
   ],
   "source": [
    "best_model = None\n",
    "best_acc = 0\n",
    "\n",
    "for i in range(15):\n",
    "  reg = 10**np.random.uniform(-1, 1)\n",
    "  lr = 10**np.random.uniform(-2, -4)\n",
    "  std = 10**np.random.uniform(-1, -3)\n",
    "  model = FullyConnectedNet([512, 256, 256],\n",
    "                            weight_scale=std,\n",
    "                            normalization='batchnorm',\n",
    "                            dropout=0.75)\n",
    "\n",
    "  solver = Solver(model,\n",
    "                  data,\n",
    "                  num_epochs=20,\n",
    "                  batch_size=128,\n",
    "                  lr_decay=0.9,\n",
    "                  update_rule='adam',\n",
    "                  optim_config={\n",
    "                    'learning_rate': lr\n",
    "                  },\n",
    "                  verbose=False)\n",
    "\n",
    "  print('reg: %f, lr: %f, std: %f'%(reg, lr, std))\n",
    "  solver.train()\n",
    "\n",
    "  train_acc = solver.check_accuracy(data['X_train'], data['y_train'])\n",
    "  val_acc = solver.check_accuracy(data['X_val'], data['y_val'])\n",
    "  print('train_acc: %f, val_acc: %f' %(train_acc, val_acc))\n",
    "  print()\n",
    "\n",
    "  if val_acc > best_acc:\n",
    "    best_acc = val_acc\n",
    "    best_model = model\n",
    "################################################################################\n",
    "#                              END OF YOUR CODE                                #\n",
    "################################################################################"
   ]
  },
  {
   "cell_type": "code",
   "execution_count": 6,
   "metadata": {},
   "outputs": [
    {
     "name": "stdout",
     "output_type": "stream",
     "text": [
      "Validation set accuracy:  0.599\n",
      "Test set accuracy:  0.593\n"
     ]
    }
   ],
   "source": [
    "y_test_pred = np.argmax(best_model.loss(data['X_test']), axis=1)\n",
    "y_val_pred = np.argmax(best_model.loss(data['X_val']), axis=1)\n",
    "print('Validation set accuracy: ', (y_val_pred == data['y_val']).mean())\n",
    "print('Test set accuracy: ', (y_test_pred == data['y_test']).mean())"
   ]
  },
  {
   "cell_type": "code",
   "execution_count": null,
   "metadata": {},
   "outputs": [],
   "source": []
  }
 ],
 "metadata": {
  "kernelspec": {
   "display_name": "Python 3",
   "language": "python",
   "name": "python3"
  },
  "language_info": {
   "codemirror_mode": {
    "name": "ipython",
    "version": 3
   },
   "file_extension": ".py",
   "mimetype": "text/x-python",
   "name": "python",
   "nbconvert_exporter": "python",
   "pygments_lexer": "ipython3",
   "version": "3.7.3"
  }
 },
 "nbformat": 4,
 "nbformat_minor": 2
}
